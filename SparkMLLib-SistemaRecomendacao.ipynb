{
 "cells": [
  {
   "cell_type": "markdown",
   "metadata": {},
   "source": [
    "### Spark MLLib - Sistema de Recomendação\n",
    "\n",
    "**Descrição**\n",
    "\n",
    "    . Também chamado de filtros colaborativos\n",
    "    \n",
    "    . Analisa dados passados para compreender comportamentos de pessoas/entidades\n",
    "    \n",
    "    . A recomendação é feita por similaridade de comportamento\n",
    "    \n",
    "    . Recomendação é baseada em usuários ou itens\n",
    "    \n",
    "    . Algoritmos de Recomendação esperam receber os dados em um formato específico:[user_ID, item_ID, score].\n",
    "    \n",
    "    . Score, também chamado rating, indica a preferencia de um usuario sobre um item. Podem ser valores booleanos, ratings           ou mesmo volume de vendas."
   ]
  },
  {
   "cell_type": "code",
   "execution_count": 1,
   "metadata": {},
   "outputs": [],
   "source": [
    "# Imports\n",
    "from pyspark.ml.recommendation import ALS"
   ]
  },
  {
   "cell_type": "code",
   "execution_count": 2,
   "metadata": {},
   "outputs": [],
   "source": [
    "# Iniciando uma Spark Session\n",
    "spSession = SparkSession.builder.master(\"local\").appName(\"SparkMLLib-Recomendacao\").getOrCreate()"
   ]
  },
  {
   "cell_type": "code",
   "execution_count": 3,
   "metadata": {},
   "outputs": [],
   "source": [
    "# Carregando os dados\n",
    "ratingRDD = sc.textFile(\"user-item.txt\")"
   ]
  },
  {
   "cell_type": "code",
   "execution_count": 4,
   "metadata": {},
   "outputs": [
    {
     "data": {
      "text/plain": [
       "pyspark.rdd.RDD"
      ]
     },
     "execution_count": 4,
     "metadata": {},
     "output_type": "execute_result"
    }
   ],
   "source": [
    "type(ratingRDD)"
   ]
  },
  {
   "cell_type": "code",
   "execution_count": 5,
   "metadata": {},
   "outputs": [
    {
     "data": {
      "text/plain": [
       "38"
      ]
     },
     "execution_count": 5,
     "metadata": {},
     "output_type": "execute_result"
    }
   ],
   "source": [
    "# Numero de registros no conjunto de dados\n",
    "ratingRDD.count()"
   ]
  },
  {
   "cell_type": "code",
   "execution_count": 6,
   "metadata": {},
   "outputs": [
    {
     "data": {
      "text/plain": [
       "'1001,9001,10'"
      ]
     },
     "execution_count": 6,
     "metadata": {},
     "output_type": "execute_result"
    }
   ],
   "source": [
    "# Verificando o cabeçalho - Nao ha cabeçalho\n",
    "ratingRDD.first()"
   ]
  },
  {
   "cell_type": "code",
   "execution_count": 7,
   "metadata": {},
   "outputs": [
    {
     "data": {
      "text/plain": [
       "['1001,9001,10',\n",
       " '1001,9002,1',\n",
       " '1001,9003,9',\n",
       " '1002,9001,3',\n",
       " '1002,9002,5',\n",
       " '1002,9003,1',\n",
       " '1002,9004,10',\n",
       " '1003,9001,2',\n",
       " '1003,9002,6',\n",
       " '1003,9003,2']"
      ]
     },
     "execution_count": 7,
     "metadata": {},
     "output_type": "execute_result"
    }
   ],
   "source": [
    "# Visualizando alguns registros\n",
    "ratingRDD.take(10)"
   ]
  },
  {
   "cell_type": "markdown",
   "metadata": {},
   "source": [
    "#### Os dados estao como strings entao transformamos os dados para os tipos adequados"
   ]
  },
  {
   "cell_type": "code",
   "execution_count": 15,
   "metadata": {},
   "outputs": [],
   "source": [
    "# Criando a função de transformação\n",
    "def transformaDados(inputStr):\n",
    "    \n",
    "    attList = inputStr.split(\",\")\n",
    "    \n",
    "    col1 = int(attList[0])\n",
    "    col2 = int(attList[1])\n",
    "    col3 = float(attList[2])\n",
    "    \n",
    "    dados = [col1, col2, col3]\n",
    "    \n",
    "    return dados"
   ]
  },
  {
   "cell_type": "code",
   "execution_count": 16,
   "metadata": {},
   "outputs": [],
   "source": [
    "# Transformando os dados\n",
    "ratingRDD2 = ratingRDD.map(transformaDados)"
   ]
  },
  {
   "cell_type": "code",
   "execution_count": 17,
   "metadata": {},
   "outputs": [
    {
     "data": {
      "text/plain": [
       "[[1001, 9001, 10.0],\n",
       " [1001, 9002, 1.0],\n",
       " [1001, 9003, 9.0],\n",
       " [1002, 9001, 3.0],\n",
       " [1002, 9002, 5.0]]"
      ]
     },
     "execution_count": 17,
     "metadata": {},
     "output_type": "execute_result"
    }
   ],
   "source": [
    "# Visualizando o conjunto criado\n",
    "ratingRDD2.take(5)"
   ]
  },
  {
   "cell_type": "code",
   "execution_count": 25,
   "metadata": {},
   "outputs": [],
   "source": [
    "# Criando um dataframe - para a criaçao do algoritmo de recomendaçao e necessario ter as colunas como : [user, item, rating]\n",
    "ratingDF = spSession.createDataFrame(ratingRDD2, [\"user\", \"item\", \"rating\"])"
   ]
  },
  {
   "cell_type": "code",
   "execution_count": 27,
   "metadata": {},
   "outputs": [
    {
     "name": "stdout",
     "output_type": "stream",
     "text": [
      "+----+----+------+\n",
      "|user|item|rating|\n",
      "+----+----+------+\n",
      "|1001|9001|  10.0|\n",
      "|1001|9002|   1.0|\n",
      "|1001|9003|   9.0|\n",
      "|1002|9001|   3.0|\n",
      "|1002|9002|   5.0|\n",
      "+----+----+------+\n",
      "only showing top 5 rows\n",
      "\n"
     ]
    }
   ],
   "source": [
    "# Visualizando o dataFrame\n",
    "ratingDF.select(\"user\", \"item\", \"rating\").show(5)"
   ]
  },
  {
   "cell_type": "code",
   "execution_count": 28,
   "metadata": {},
   "outputs": [],
   "source": [
    "# Criando o Modelo\n",
    "# ALS -> Alternating Least Squares --> Algortimo para sistema de recomendação, que otimiza a loss function\n",
    "# e funciona muito bem em ambientes paralelizados\n",
    "als = ALS(rank = 10, maxIter = 5)\n",
    "modelo = als.fit(ratingDF)"
   ]
  },
  {
   "cell_type": "code",
   "execution_count": 29,
   "metadata": {},
   "outputs": [
    {
     "data": {
      "text/plain": [
       "[Row(id=1001, features=[0.9681084156036377, -0.6955734491348267, 0.7195470929145813, -0.23173299431800842, 0.258536159992218, 0.21683301031589508, -0.3001883029937744, 0.9602264761924744, 0.4306694269180298, 0.176595076918602]),\n",
       " Row(id=1002, features=[0.2752208411693573, 0.45148375630378723, 0.007497432176023722, 0.029693691059947014, 0.7466303110122681, 1.5252691507339478, 0.1335616558790207, -0.6253135204315186, -0.16368703544139862, -0.18602345883846283]),\n",
       " Row(id=1003, features=[0.31628555059432983, 0.48526066541671753, -0.09361215680837631, 0.6461942791938782, 0.16269101202487946, 1.2503844499588013, 0.22005711495876312, -0.5321128368377686, -0.16695955395698547, 0.0727267861366272]),\n",
       " Row(id=1004, features=[0.9316565990447998, -0.7643890976905823, 0.4667227268218994, -0.060695432126522064, 0.544359028339386, 0.6515966057777405, -0.22367969155311584, 0.5234723091125488, 0.09014416486024857, 0.03905295953154564]),\n",
       " Row(id=1005, features=[0.7033907771110535, 0.16621631383895874, 0.7207597494125366, -0.14930357038974762, -0.0844234973192215, 0.4931977391242981, -0.14033769071102142, 0.6706025004386902, 0.5866522789001465, 0.34019169211387634]),\n",
       " Row(id=1006, features=[0.8660502433776855, -0.25038591027259827, 0.23852765560150146, 1.1677603721618652, -0.6388601660728455, 0.19746306538581848, 0.04223300889134407, 0.5780878663063049, 0.20296424627304077, 0.5022971630096436])]"
      ]
     },
     "execution_count": 29,
     "metadata": {},
     "output_type": "execute_result"
    }
   ],
   "source": [
    "# Visualizando o Affinity Score\n",
    "modelo.userFactors.orderBy(\"id\").collect()"
   ]
  },
  {
   "cell_type": "code",
   "execution_count": 30,
   "metadata": {},
   "outputs": [],
   "source": [
    "# Criando um dataset de teste com usuários e itens para rating\n",
    "testeDF = spSession.createDataFrame([(1001, 9003), (1001, 9004), (1001, 9005)], [\"user\", \"item\"])"
   ]
  },
  {
   "cell_type": "code",
   "execution_count": 31,
   "metadata": {},
   "outputs": [
    {
     "data": {
      "text/plain": [
       "[Row(user=1001, item=9004, prediction=-0.6358490586280823),\n",
       " Row(user=1001, item=9005, prediction=-2.2901651859283447),\n",
       " Row(user=1001, item=9003, prediction=9.001792907714844)]"
      ]
     },
     "execution_count": 31,
     "metadata": {},
     "output_type": "execute_result"
    }
   ],
   "source": [
    "# Previsoes\n",
    "# Quanto maior o Affinity Score, maior a probabilidade do usuário aceitar uma recomendação\n",
    "previsoes = (modelo.transform(testeDF).collect())\n",
    "previsoes"
   ]
  },
  {
   "cell_type": "markdown",
   "metadata": {},
   "source": [
    "### FIM"
   ]
  }
 ],
 "metadata": {
  "kernelspec": {
   "display_name": "Python 3",
   "language": "python",
   "name": "python3"
  },
  "language_info": {
   "codemirror_mode": {
    "name": "ipython",
    "version": 3
   },
   "file_extension": ".py",
   "mimetype": "text/x-python",
   "name": "python",
   "nbconvert_exporter": "python",
   "pygments_lexer": "ipython3",
   "version": "3.7.3"
  }
 },
 "nbformat": 4,
 "nbformat_minor": 2
}
